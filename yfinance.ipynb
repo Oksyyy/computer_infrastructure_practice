{
 "cells": [
  {
   "cell_type": "markdown",
   "id": "79d5c7b5",
   "metadata": {},
   "source": [
    "# yFinance"
   ]
  },
  {
   "cell_type": "markdown",
   "id": "43da6cfa",
   "metadata": {},
   "source": [
    "https://github.com/ranaroussi/yfinance"
   ]
  },
  {
   "cell_type": "code",
   "execution_count": 1,
   "id": "2ab55685",
   "metadata": {},
   "outputs": [],
   "source": [
    "# Yahoo Finance data\n",
    "import yfinance as yf"
   ]
  },
  {
   "cell_type": "code",
   "execution_count": null,
   "id": "9bdec381",
   "metadata": {},
   "outputs": [],
   "source": []
  },
  {
   "cell_type": "markdown",
   "id": "36eee554",
   "metadata": {},
   "source": [
    "## End"
   ]
  }
 ],
 "metadata": {
  "kernelspec": {
   "display_name": "Python 3",
   "language": "python",
   "name": "python3"
  },
  "language_info": {
   "codemirror_mode": {
    "name": "ipython",
    "version": 3
   },
   "file_extension": ".py",
   "mimetype": "text/x-python",
   "name": "python",
   "nbconvert_exporter": "python",
   "pygments_lexer": "ipython3",
   "version": "3.12.1"
  }
 },
 "nbformat": 4,
 "nbformat_minor": 5
}
